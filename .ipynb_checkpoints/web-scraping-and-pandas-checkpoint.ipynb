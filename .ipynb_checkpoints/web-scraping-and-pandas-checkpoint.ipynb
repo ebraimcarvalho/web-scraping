{
 "cells": [
  {
   "cell_type": "markdown",
   "metadata": {},
   "source": [
    "# Let's livecode!"
   ]
  },
  {
   "cell_type": "markdown",
   "metadata": {},
   "source": [
    "First, let's import the libraries we'll need"
   ]
  },
  {
   "cell_type": "code",
   "execution_count": 1,
   "metadata": {},
   "outputs": [],
   "source": [
    "# Importando bibliotecas\n",
    "\n",
    "import requests # Para fazer requisições\n",
    "from bs4 import BeautifulSoup # Para trabalhar com dados vindos de paginas web"
   ]
  },
  {
   "cell_type": "markdown",
   "metadata": {},
   "source": [
    "Now let's set the URL for the page we're scraping, make a request to get the HTML and parse it. "
   ]
  },
  {
   "cell_type": "code",
   "execution_count": 2,
   "metadata": {},
   "outputs": [],
   "source": [
    "url = \"http://books.toscrape.com/index.html\"\n",
    "response = requests.get(url)\n",
    "html = response.content\n",
    "scraped = BeautifulSoup(html, 'html.parser')"
   ]
  },
  {
   "cell_type": "code",
   "execution_count": 3,
   "metadata": {},
   "outputs": [
    {
     "name": "stdout",
     "output_type": "stream",
     "text": [
      "{'Books': ['A Light in the Attic', 'Tipping the Velvet', 'Soumission', 'Sharp Objects', 'Sapiens: A Brief History of Humankind', 'The Requiem Red', 'The Dirty Little Secrets of Getting Your Dream Job', 'The Coming Woman: A Novel Based on the Life of the Infamous Feminist, Victoria Woodhull', 'The Boys in the Boat: Nine Americans and Their Epic Quest for Gold at the 1936 Berlin Olympics', 'The Black Maria', 'Starving Hearts (Triangular Trade Trilogy, #1)', \"Shakespeare's Sonnets\", 'Set Me Free', \"Scott Pilgrim's Precious Little Life (Scott Pilgrim #1)\", 'Rip it Up and Start Again', 'Our Band Could Be Your Life: Scenes from the American Indie Underground, 1981-1991', 'Olio', 'Mesaerion: The Best Science Fiction Stories 1800-1849', 'Libertarianism for Beginners', \"It's Only the Himalayas\"], 'Prices (£)': [51.77, 53.74, 50.1, 47.82, 54.23, 22.65, 33.34, 17.93, 22.6, 52.15, 13.99, 20.66, 17.46, 52.29, 35.02, 57.25, 23.88, 37.59, 51.33, 45.17]}\n"
     ]
    }
   ],
   "source": [
    "# Cada livro está num article com class product_pod\n",
    "# assim selecionamos todos os articles para iterar por essa lista\n",
    "books = scraped.find_all(class_='product_pod')\n",
    "\n",
    "titles = [] # Lista que receberá os títulos de cada livro\n",
    "prices = [] # Lista que recebera os preços de cada livro\n",
    "\n",
    "list = {'Books': titles, 'Prices (£)': prices} # Lista que será usada para criar o dataframe do pandas\n",
    "\n",
    "for item in books:\n",
    "    title = item.h3.a['title'] # O Título está no atributo Title do <a> dentro do <h3> que está dentro do <article>\n",
    "    \n",
    "    # O preço está numa classe 'price_color' dentro de outra classe 'product_price'\n",
    "    # O lstrip retira da esquerda o simbolo de Libra '£' e o float salva nosso dado como float\n",
    "    price = float(item.find(class_='product_price').find(class_='price_color').text.lstrip('£'))\n",
    "    \n",
    "    titles.append(title) # O título é adicionado à lista de Títulos\n",
    "    prices.append(price) # O Preço, já como float, é adicionado à lista de Preços\n",
    "    #print(title)\n",
    "\n",
    "print(list)"
   ]
  },
  {
   "cell_type": "code",
   "execution_count": 4,
   "metadata": {},
   "outputs": [
    {
     "data": {
      "text/html": [
       "<div>\n",
       "<style scoped>\n",
       "    .dataframe tbody tr th:only-of-type {\n",
       "        vertical-align: middle;\n",
       "    }\n",
       "\n",
       "    .dataframe tbody tr th {\n",
       "        vertical-align: top;\n",
       "    }\n",
       "\n",
       "    .dataframe thead th {\n",
       "        text-align: right;\n",
       "    }\n",
       "</style>\n",
       "<table border=\"1\" class=\"dataframe\">\n",
       "  <thead>\n",
       "    <tr style=\"text-align: right;\">\n",
       "      <th></th>\n",
       "      <th>Books</th>\n",
       "      <th>Prices (£)</th>\n",
       "    </tr>\n",
       "  </thead>\n",
       "  <tbody>\n",
       "    <tr>\n",
       "      <th>0</th>\n",
       "      <td>A Light in the Attic</td>\n",
       "      <td>51.77</td>\n",
       "    </tr>\n",
       "    <tr>\n",
       "      <th>1</th>\n",
       "      <td>Tipping the Velvet</td>\n",
       "      <td>53.74</td>\n",
       "    </tr>\n",
       "    <tr>\n",
       "      <th>2</th>\n",
       "      <td>Soumission</td>\n",
       "      <td>50.10</td>\n",
       "    </tr>\n",
       "    <tr>\n",
       "      <th>3</th>\n",
       "      <td>Sharp Objects</td>\n",
       "      <td>47.82</td>\n",
       "    </tr>\n",
       "    <tr>\n",
       "      <th>4</th>\n",
       "      <td>Sapiens: A Brief History of Humankind</td>\n",
       "      <td>54.23</td>\n",
       "    </tr>\n",
       "    <tr>\n",
       "      <th>5</th>\n",
       "      <td>The Requiem Red</td>\n",
       "      <td>22.65</td>\n",
       "    </tr>\n",
       "    <tr>\n",
       "      <th>6</th>\n",
       "      <td>The Dirty Little Secrets of Getting Your Dream...</td>\n",
       "      <td>33.34</td>\n",
       "    </tr>\n",
       "    <tr>\n",
       "      <th>7</th>\n",
       "      <td>The Coming Woman: A Novel Based on the Life of...</td>\n",
       "      <td>17.93</td>\n",
       "    </tr>\n",
       "    <tr>\n",
       "      <th>8</th>\n",
       "      <td>The Boys in the Boat: Nine Americans and Their...</td>\n",
       "      <td>22.60</td>\n",
       "    </tr>\n",
       "    <tr>\n",
       "      <th>9</th>\n",
       "      <td>The Black Maria</td>\n",
       "      <td>52.15</td>\n",
       "    </tr>\n",
       "    <tr>\n",
       "      <th>10</th>\n",
       "      <td>Starving Hearts (Triangular Trade Trilogy, #1)</td>\n",
       "      <td>13.99</td>\n",
       "    </tr>\n",
       "    <tr>\n",
       "      <th>11</th>\n",
       "      <td>Shakespeare's Sonnets</td>\n",
       "      <td>20.66</td>\n",
       "    </tr>\n",
       "    <tr>\n",
       "      <th>12</th>\n",
       "      <td>Set Me Free</td>\n",
       "      <td>17.46</td>\n",
       "    </tr>\n",
       "    <tr>\n",
       "      <th>13</th>\n",
       "      <td>Scott Pilgrim's Precious Little Life (Scott Pi...</td>\n",
       "      <td>52.29</td>\n",
       "    </tr>\n",
       "    <tr>\n",
       "      <th>14</th>\n",
       "      <td>Rip it Up and Start Again</td>\n",
       "      <td>35.02</td>\n",
       "    </tr>\n",
       "    <tr>\n",
       "      <th>15</th>\n",
       "      <td>Our Band Could Be Your Life: Scenes from the A...</td>\n",
       "      <td>57.25</td>\n",
       "    </tr>\n",
       "    <tr>\n",
       "      <th>16</th>\n",
       "      <td>Olio</td>\n",
       "      <td>23.88</td>\n",
       "    </tr>\n",
       "    <tr>\n",
       "      <th>17</th>\n",
       "      <td>Mesaerion: The Best Science Fiction Stories 18...</td>\n",
       "      <td>37.59</td>\n",
       "    </tr>\n",
       "    <tr>\n",
       "      <th>18</th>\n",
       "      <td>Libertarianism for Beginners</td>\n",
       "      <td>51.33</td>\n",
       "    </tr>\n",
       "    <tr>\n",
       "      <th>19</th>\n",
       "      <td>It's Only the Himalayas</td>\n",
       "      <td>45.17</td>\n",
       "    </tr>\n",
       "  </tbody>\n",
       "</table>\n",
       "</div>"
      ],
      "text/plain": [
       "                                                Books  Prices (£)\n",
       "0                                A Light in the Attic       51.77\n",
       "1                                  Tipping the Velvet       53.74\n",
       "2                                          Soumission       50.10\n",
       "3                                       Sharp Objects       47.82\n",
       "4               Sapiens: A Brief History of Humankind       54.23\n",
       "5                                     The Requiem Red       22.65\n",
       "6   The Dirty Little Secrets of Getting Your Dream...       33.34\n",
       "7   The Coming Woman: A Novel Based on the Life of...       17.93\n",
       "8   The Boys in the Boat: Nine Americans and Their...       22.60\n",
       "9                                     The Black Maria       52.15\n",
       "10     Starving Hearts (Triangular Trade Trilogy, #1)       13.99\n",
       "11                              Shakespeare's Sonnets       20.66\n",
       "12                                        Set Me Free       17.46\n",
       "13  Scott Pilgrim's Precious Little Life (Scott Pi...       52.29\n",
       "14                          Rip it Up and Start Again       35.02\n",
       "15  Our Band Could Be Your Life: Scenes from the A...       57.25\n",
       "16                                               Olio       23.88\n",
       "17  Mesaerion: The Best Science Fiction Stories 18...       37.59\n",
       "18                       Libertarianism for Beginners       51.33\n",
       "19                            It's Only the Himalayas       45.17"
      ]
     },
     "execution_count": 4,
     "metadata": {},
     "output_type": "execute_result"
    }
   ],
   "source": [
    "# Importa o pandas como pd\n",
    "import pandas as pd\n",
    "df = pd.DataFrame(list) # Cria um dataframe com nossa listade livros e preços\n",
    "df"
   ]
  },
  {
   "cell_type": "code",
   "execution_count": 5,
   "metadata": {},
   "outputs": [
    {
     "data": {
      "text/html": [
       "<div>\n",
       "<style scoped>\n",
       "    .dataframe tbody tr th:only-of-type {\n",
       "        vertical-align: middle;\n",
       "    }\n",
       "\n",
       "    .dataframe tbody tr th {\n",
       "        vertical-align: top;\n",
       "    }\n",
       "\n",
       "    .dataframe thead th {\n",
       "        text-align: right;\n",
       "    }\n",
       "</style>\n",
       "<table border=\"1\" class=\"dataframe\">\n",
       "  <thead>\n",
       "    <tr style=\"text-align: right;\">\n",
       "      <th></th>\n",
       "      <th>Prices (£)</th>\n",
       "    </tr>\n",
       "  </thead>\n",
       "  <tbody>\n",
       "    <tr>\n",
       "      <th>count</th>\n",
       "      <td>20.000000</td>\n",
       "    </tr>\n",
       "    <tr>\n",
       "      <th>mean</th>\n",
       "      <td>38.048500</td>\n",
       "    </tr>\n",
       "    <tr>\n",
       "      <th>std</th>\n",
       "      <td>15.135231</td>\n",
       "    </tr>\n",
       "    <tr>\n",
       "      <th>min</th>\n",
       "      <td>13.990000</td>\n",
       "    </tr>\n",
       "    <tr>\n",
       "      <th>25%</th>\n",
       "      <td>22.637500</td>\n",
       "    </tr>\n",
       "    <tr>\n",
       "      <th>50%</th>\n",
       "      <td>41.380000</td>\n",
       "    </tr>\n",
       "    <tr>\n",
       "      <th>75%</th>\n",
       "      <td>51.865000</td>\n",
       "    </tr>\n",
       "    <tr>\n",
       "      <th>max</th>\n",
       "      <td>57.250000</td>\n",
       "    </tr>\n",
       "  </tbody>\n",
       "</table>\n",
       "</div>"
      ],
      "text/plain": [
       "       Prices (£)\n",
       "count   20.000000\n",
       "mean    38.048500\n",
       "std     15.135231\n",
       "min     13.990000\n",
       "25%     22.637500\n",
       "50%     41.380000\n",
       "75%     51.865000\n",
       "max     57.250000"
      ]
     },
     "execution_count": 5,
     "metadata": {},
     "output_type": "execute_result"
    }
   ],
   "source": [
    "df.describe() # Descreve as colunas que contem numeros, nesse caso, apenas a coluna Prices contem numeros"
   ]
  },
  {
   "cell_type": "code",
   "execution_count": 6,
   "metadata": {},
   "outputs": [
    {
     "name": "stdout",
     "output_type": "stream",
     "text": [
      "<class 'pandas.core.frame.DataFrame'>\n",
      "RangeIndex: 20 entries, 0 to 19\n",
      "Data columns (total 2 columns):\n",
      " #   Column      Non-Null Count  Dtype  \n",
      "---  ------      --------------  -----  \n",
      " 0   Books       20 non-null     object \n",
      " 1   Prices (£)  20 non-null     float64\n",
      "dtypes: float64(1), object(1)\n",
      "memory usage: 448.0+ bytes\n"
     ]
    }
   ],
   "source": [
    "df.info() # Mostra informações do dataframe e os tipos dos dados de cada coluna e quantas entradas que não são null"
   ]
  },
  {
   "cell_type": "code",
   "execution_count": 7,
   "metadata": {},
   "outputs": [
    {
     "data": {
      "text/plain": [
       "(20, 2)"
      ]
     },
     "execution_count": 7,
     "metadata": {},
     "output_type": "execute_result"
    }
   ],
   "source": [
    "df.shape # Mostra quantas linhas e colunas tem o dataframe"
   ]
  },
  {
   "cell_type": "code",
   "execution_count": 8,
   "metadata": {},
   "outputs": [
    {
     "data": {
      "text/plain": [
       "0                                  A Light in the Attic\n",
       "1                                    Tipping the Velvet\n",
       "2                                            Soumission\n",
       "3                                         Sharp Objects\n",
       "4                 Sapiens: A Brief History of Humankind\n",
       "5                                       The Requiem Red\n",
       "6     The Dirty Little Secrets of Getting Your Dream...\n",
       "7     The Coming Woman: A Novel Based on the Life of...\n",
       "8     The Boys in the Boat: Nine Americans and Their...\n",
       "9                                       The Black Maria\n",
       "10       Starving Hearts (Triangular Trade Trilogy, #1)\n",
       "11                                Shakespeare's Sonnets\n",
       "12                                          Set Me Free\n",
       "13    Scott Pilgrim's Precious Little Life (Scott Pi...\n",
       "14                            Rip it Up and Start Again\n",
       "15    Our Band Could Be Your Life: Scenes from the A...\n",
       "16                                                 Olio\n",
       "17    Mesaerion: The Best Science Fiction Stories 18...\n",
       "18                         Libertarianism for Beginners\n",
       "19                              It's Only the Himalayas\n",
       "Name: Books, dtype: object"
      ]
     },
     "execution_count": 8,
     "metadata": {},
     "output_type": "execute_result"
    }
   ],
   "source": [
    "df.Books # Mostra a coluna Books do dataframe"
   ]
  },
  {
   "cell_type": "code",
   "execution_count": 11,
   "metadata": {},
   "outputs": [
    {
     "data": {
      "text/plain": [
       "0     51.77\n",
       "1     53.74\n",
       "2     50.10\n",
       "3     47.82\n",
       "4     54.23\n",
       "5     22.65\n",
       "6     33.34\n",
       "7     17.93\n",
       "8     22.60\n",
       "9     52.15\n",
       "10    13.99\n",
       "11    20.66\n",
       "12    17.46\n",
       "13    52.29\n",
       "14    35.02\n",
       "15    57.25\n",
       "16    23.88\n",
       "17    37.59\n",
       "18    51.33\n",
       "19    45.17\n",
       "Name: Prices (£), dtype: float64"
      ]
     },
     "execution_count": 11,
     "metadata": {},
     "output_type": "execute_result"
    }
   ],
   "source": [
    "df['Prices (£)'] # Outra forma de chamar uma coluna é entre colchetes e aspas: ['Coluna']"
   ]
  },
  {
   "cell_type": "code",
   "execution_count": 18,
   "metadata": {},
   "outputs": [
    {
     "data": {
      "text/plain": [
       "0     51.77\n",
       "1     53.74\n",
       "2     50.10\n",
       "3     47.82\n",
       "4     54.23\n",
       "5     22.65\n",
       "6     33.34\n",
       "7     17.93\n",
       "8     22.60\n",
       "9     52.15\n",
       "10    13.99\n",
       "11    20.66\n",
       "12    17.46\n",
       "13    52.29\n",
       "14    35.02\n",
       "15    57.25\n",
       "16    23.88\n",
       "17    37.59\n",
       "18    51.33\n",
       "19    45.17\n",
       "Name: Prices (£), dtype: float64"
      ]
     },
     "execution_count": 18,
     "metadata": {},
     "output_type": "execute_result"
    }
   ],
   "source": [
    "df.iloc[:,1] \n",
    "# Localiza no dataframe pelo indice, sendo o primeiro valor antes da virgula para as linhas\n",
    "# O valor apos a virgula é para o indice da coluna\n",
    "# o : seleciona todas as linhas\n",
    "# o 1 seleciona a segunda coluna (Lembre-se que o indice começa por 0)"
   ]
  },
  {
   "cell_type": "code",
   "execution_count": 19,
   "metadata": {},
   "outputs": [
    {
     "data": {
      "text/plain": [
       "0                                  A Light in the Attic\n",
       "1                                    Tipping the Velvet\n",
       "2                                            Soumission\n",
       "3                                         Sharp Objects\n",
       "4                 Sapiens: A Brief History of Humankind\n",
       "5                                       The Requiem Red\n",
       "6     The Dirty Little Secrets of Getting Your Dream...\n",
       "7     The Coming Woman: A Novel Based on the Life of...\n",
       "8     The Boys in the Boat: Nine Americans and Their...\n",
       "9                                       The Black Maria\n",
       "10       Starving Hearts (Triangular Trade Trilogy, #1)\n",
       "11                                Shakespeare's Sonnets\n",
       "12                                          Set Me Free\n",
       "13    Scott Pilgrim's Precious Little Life (Scott Pi...\n",
       "14                            Rip it Up and Start Again\n",
       "15    Our Band Could Be Your Life: Scenes from the A...\n",
       "16                                                 Olio\n",
       "17    Mesaerion: The Best Science Fiction Stories 18...\n",
       "18                         Libertarianism for Beginners\n",
       "19                              It's Only the Himalayas\n",
       "Name: Books, dtype: object"
      ]
     },
     "execution_count": 19,
     "metadata": {},
     "output_type": "execute_result"
    }
   ],
   "source": [
    "df.iloc[:, 0]\n",
    "# Aqui seleciona todas as linhas, mas a primeira coluna"
   ]
  },
  {
   "cell_type": "code",
   "execution_count": 20,
   "metadata": {},
   "outputs": [
    {
     "data": {
      "text/plain": [
       "0                                  A Light in the Attic\n",
       "1                                    Tipping the Velvet\n",
       "2                                            Soumission\n",
       "3                                         Sharp Objects\n",
       "4                 Sapiens: A Brief History of Humankind\n",
       "5                                       The Requiem Red\n",
       "6     The Dirty Little Secrets of Getting Your Dream...\n",
       "7     The Coming Woman: A Novel Based on the Life of...\n",
       "8     The Boys in the Boat: Nine Americans and Their...\n",
       "9                                       The Black Maria\n",
       "10       Starving Hearts (Triangular Trade Trilogy, #1)\n",
       "11                                Shakespeare's Sonnets\n",
       "12                                          Set Me Free\n",
       "13    Scott Pilgrim's Precious Little Life (Scott Pi...\n",
       "14                            Rip it Up and Start Again\n",
       "15    Our Band Could Be Your Life: Scenes from the A...\n",
       "16                                                 Olio\n",
       "17    Mesaerion: The Best Science Fiction Stories 18...\n",
       "18                         Libertarianism for Beginners\n",
       "19                              It's Only the Himalayas\n",
       "Name: Books, dtype: object"
      ]
     },
     "execution_count": 20,
     "metadata": {},
     "output_type": "execute_result"
    }
   ],
   "source": [
    "df.loc[:, 'Books']\n",
    "# Outra forma de selecionar todas as linhas da coluna de nome 'Books'\n",
    "# o .loc seleciona pelo indice da linha, mas pela label = nome da coluna"
   ]
  },
  {
   "cell_type": "code",
   "execution_count": 21,
   "metadata": {},
   "outputs": [
    {
     "data": {
      "text/plain": [
       "0     51.77\n",
       "1     53.74\n",
       "2     50.10\n",
       "3     47.82\n",
       "4     54.23\n",
       "5     22.65\n",
       "6     33.34\n",
       "7     17.93\n",
       "8     22.60\n",
       "9     52.15\n",
       "10    13.99\n",
       "11    20.66\n",
       "12    17.46\n",
       "13    52.29\n",
       "14    35.02\n",
       "15    57.25\n",
       "16    23.88\n",
       "17    37.59\n",
       "18    51.33\n",
       "19    45.17\n",
       "Name: Prices (£), dtype: float64"
      ]
     },
     "execution_count": 21,
     "metadata": {},
     "output_type": "execute_result"
    }
   ],
   "source": [
    "df.loc[:, 'Prices (£)']\n",
    "# aqui seleciona todas as linhas da coluna Prices"
   ]
  },
  {
   "cell_type": "code",
   "execution_count": 22,
   "metadata": {},
   "outputs": [
    {
     "data": {
      "text/html": [
       "<div>\n",
       "<style scoped>\n",
       "    .dataframe tbody tr th:only-of-type {\n",
       "        vertical-align: middle;\n",
       "    }\n",
       "\n",
       "    .dataframe tbody tr th {\n",
       "        vertical-align: top;\n",
       "    }\n",
       "\n",
       "    .dataframe thead th {\n",
       "        text-align: right;\n",
       "    }\n",
       "</style>\n",
       "<table border=\"1\" class=\"dataframe\">\n",
       "  <thead>\n",
       "    <tr style=\"text-align: right;\">\n",
       "      <th></th>\n",
       "      <th>Books</th>\n",
       "      <th>Prices (£)</th>\n",
       "    </tr>\n",
       "  </thead>\n",
       "  <tbody>\n",
       "    <tr>\n",
       "      <th>15</th>\n",
       "      <td>Our Band Could Be Your Life: Scenes from the A...</td>\n",
       "      <td>57.25</td>\n",
       "    </tr>\n",
       "    <tr>\n",
       "      <th>4</th>\n",
       "      <td>Sapiens: A Brief History of Humankind</td>\n",
       "      <td>54.23</td>\n",
       "    </tr>\n",
       "    <tr>\n",
       "      <th>1</th>\n",
       "      <td>Tipping the Velvet</td>\n",
       "      <td>53.74</td>\n",
       "    </tr>\n",
       "    <tr>\n",
       "      <th>13</th>\n",
       "      <td>Scott Pilgrim's Precious Little Life (Scott Pi...</td>\n",
       "      <td>52.29</td>\n",
       "    </tr>\n",
       "    <tr>\n",
       "      <th>9</th>\n",
       "      <td>The Black Maria</td>\n",
       "      <td>52.15</td>\n",
       "    </tr>\n",
       "  </tbody>\n",
       "</table>\n",
       "</div>"
      ],
      "text/plain": [
       "                                                Books  Prices (£)\n",
       "15  Our Band Could Be Your Life: Scenes from the A...       57.25\n",
       "4               Sapiens: A Brief History of Humankind       54.23\n",
       "1                                  Tipping the Velvet       53.74\n",
       "13  Scott Pilgrim's Precious Little Life (Scott Pi...       52.29\n",
       "9                                     The Black Maria       52.15"
      ]
     },
     "execution_count": 22,
     "metadata": {},
     "output_type": "execute_result"
    }
   ],
   "source": [
    "df.nlargest(5, 'Prices (£)')\n",
    "# Comando muito utilizado para retornar os maiores valores, \n",
    "# nesse caso, selecionei os 5 registros com maiores preços, note que em ordem do maior para o menor"
   ]
  },
  {
   "cell_type": "code",
   "execution_count": 23,
   "metadata": {},
   "outputs": [
    {
     "data": {
      "text/html": [
       "<div>\n",
       "<style scoped>\n",
       "    .dataframe tbody tr th:only-of-type {\n",
       "        vertical-align: middle;\n",
       "    }\n",
       "\n",
       "    .dataframe tbody tr th {\n",
       "        vertical-align: top;\n",
       "    }\n",
       "\n",
       "    .dataframe thead th {\n",
       "        text-align: right;\n",
       "    }\n",
       "</style>\n",
       "<table border=\"1\" class=\"dataframe\">\n",
       "  <thead>\n",
       "    <tr style=\"text-align: right;\">\n",
       "      <th></th>\n",
       "      <th>Books</th>\n",
       "      <th>Prices (£)</th>\n",
       "    </tr>\n",
       "  </thead>\n",
       "  <tbody>\n",
       "    <tr>\n",
       "      <th>10</th>\n",
       "      <td>Starving Hearts (Triangular Trade Trilogy, #1)</td>\n",
       "      <td>13.99</td>\n",
       "    </tr>\n",
       "    <tr>\n",
       "      <th>12</th>\n",
       "      <td>Set Me Free</td>\n",
       "      <td>17.46</td>\n",
       "    </tr>\n",
       "    <tr>\n",
       "      <th>7</th>\n",
       "      <td>The Coming Woman: A Novel Based on the Life of...</td>\n",
       "      <td>17.93</td>\n",
       "    </tr>\n",
       "    <tr>\n",
       "      <th>11</th>\n",
       "      <td>Shakespeare's Sonnets</td>\n",
       "      <td>20.66</td>\n",
       "    </tr>\n",
       "    <tr>\n",
       "      <th>8</th>\n",
       "      <td>The Boys in the Boat: Nine Americans and Their...</td>\n",
       "      <td>22.60</td>\n",
       "    </tr>\n",
       "  </tbody>\n",
       "</table>\n",
       "</div>"
      ],
      "text/plain": [
       "                                                Books  Prices (£)\n",
       "10     Starving Hearts (Triangular Trade Trilogy, #1)       13.99\n",
       "12                                        Set Me Free       17.46\n",
       "7   The Coming Woman: A Novel Based on the Life of...       17.93\n",
       "11                              Shakespeare's Sonnets       20.66\n",
       "8   The Boys in the Boat: Nine Americans and Their...       22.60"
      ]
     },
     "execution_count": 23,
     "metadata": {},
     "output_type": "execute_result"
    }
   ],
   "source": [
    "df.nsmallest(5, 'Prices (£)')\n",
    "# Esse comando retorna os 5 menores preços, note que em ordem do menor para o maior"
   ]
  },
  {
   "cell_type": "code",
   "execution_count": 27,
   "metadata": {},
   "outputs": [
    {
     "data": {
      "text/plain": [
       "Mesaerion: The Best Science Fiction Stories 1800-1849                                             1\n",
       "Our Band Could Be Your Life: Scenes from the American Indie Underground, 1981-1991                1\n",
       "Sharp Objects                                                                                     1\n",
       "Olio                                                                                              1\n",
       "Scott Pilgrim's Precious Little Life (Scott Pilgrim #1)                                           1\n",
       "The Dirty Little Secrets of Getting Your Dream Job                                                1\n",
       "A Light in the Attic                                                                              1\n",
       "The Black Maria                                                                                   1\n",
       "The Coming Woman: A Novel Based on the Life of the Infamous Feminist, Victoria Woodhull           1\n",
       "Sapiens: A Brief History of Humankind                                                             1\n",
       "The Boys in the Boat: Nine Americans and Their Epic Quest for Gold at the 1936 Berlin Olympics    1\n",
       "The Requiem Red                                                                                   1\n",
       "It's Only the Himalayas                                                                           1\n",
       "Rip it Up and Start Again                                                                         1\n",
       "Starving Hearts (Triangular Trade Trilogy, #1)                                                    1\n",
       "Libertarianism for Beginners                                                                      1\n",
       "Set Me Free                                                                                       1\n",
       "Soumission                                                                                        1\n",
       "Shakespeare's Sonnets                                                                             1\n",
       "Tipping the Velvet                                                                                1\n",
       "Name: Books, dtype: int64"
      ]
     },
     "execution_count": 27,
     "metadata": {},
     "output_type": "execute_result"
    }
   ],
   "source": [
    "df.Books.value_counts()\n",
    "# Comando que conta quantos valores se repetiram, como não temos registros duplicados, todos tem 1 registro"
   ]
  }
 ],
 "metadata": {
  "kernelspec": {
   "display_name": "Python 3",
   "language": "python",
   "name": "python3"
  },
  "language_info": {
   "codemirror_mode": {
    "name": "ipython",
    "version": 3
   },
   "file_extension": ".py",
   "mimetype": "text/x-python",
   "name": "python",
   "nbconvert_exporter": "python",
   "pygments_lexer": "ipython3",
   "version": "3.8.3"
  }
 },
 "nbformat": 4,
 "nbformat_minor": 2
}
